{
 "cells": [
  {
   "cell_type": "code",
   "execution_count": 10,
   "id": "3b28f7d5",
   "metadata": {},
   "outputs": [],
   "source": [
    "import pandas as pd\n",
    "import numpy as np\n",
    "from tqdm import tqdm\n",
    "import nltk\n",
    "from nltk.corpus import stopwords\n",
    "from nltk.stem import PorterStemmer\n",
    "from nltk.tokenize import word_tokenize\n",
    "import math\n",
    "\n",
    "def stem(text):\n",
    "    try:\n",
    "        ps = PorterStemmer()\n",
    "        return ps.stem(text)\n",
    "    except:\n",
    "        return text\n",
    "\n",
    "df4=pd.read_csv('inputs/WikiWords_FirstMillion_Refined_V6.csv')\n",
    "df4.columns=['ENGLISH','OCCURENCES']\n",
    "df4=df4[df4['ENGLISH'].notna()]\n",
    "df4=df4.drop_duplicates(subset=['ENGLISH'])\n",
    "\n",
    "df4_new=df4.copy()\n",
    "df4_new['ENGLISH_stem']=df4_new['ENGLISH'].apply(stem)\n",
    "df4_new=df4_new.drop_duplicates(subset=['ENGLISH_stem'])\n",
    "\n",
    "df4_new=df4_new[(df4_new.OCCURENCES>25)&(df4_new.OCCURENCES<5000)]\n",
    "df4_new.to_csv(\"output/google_trad_database.csv\",header=True,index=False)"
   ]
  },
  {
   "cell_type": "code",
   "execution_count": 53,
   "id": "40432c8d",
   "metadata": {},
   "outputs": [],
   "source": [
    "#------------------------------------------------------------------------------\n",
    "\n",
    "#On export dans Google Drive pour avoir la traduction et on réimporte dans df\n",
    "\n",
    "df=pd.read_csv('inputs/Vocabulearn_translation - Feuille 1.csv')"
   ]
  },
  {
   "cell_type": "code",
   "execution_count": 86,
   "id": "0b0036e2",
   "metadata": {},
   "outputs": [],
   "source": [
    "#Enlever mots trop courts\n",
    "df2=df.copy()\n",
    "df2['_len']=df2['ENGLISH'].apply(len)\n",
    "df2=df2[df2._len>4]\n",
    "#Lower toutes FRENCH et ENGLISH\n",
    "df2['ENGLISH']=df2['ENGLISH'].apply(lambda x: x.lower())\n",
    "df2['FRENCH']=df2['FRENCH'].apply(lambda x: x.lower())\n",
    "#Enlever mots identique à la traduction\n",
    "df2=df2[~(df2['ENGLISH']==df2['FRENCH'])]\n",
    "#Ajouter une colonne de fuzzy match\n",
    "from fuzzywuzzy import fuzz\n",
    "def get_fuzzy_ration(x):\n",
    "    fuzzy=fuzz.ratio(x['ENGLISH'],x['FRENCH'])\n",
    "    return fuzzy\n",
    "df2['_fuzzy_ration']=df2.apply(get_fuzzy_ration,axis=1)\n",
    "#Enlever les fuzzy trop proches\n",
    "df2=df2[(df2['_fuzzy_ration']<60)]"
   ]
  },
  {
   "cell_type": "code",
   "execution_count": 88,
   "id": "a5bbbfb0",
   "metadata": {},
   "outputs": [],
   "source": [
    "df2.to_csv('output/additional_data.csv',header=True,index=False)"
   ]
  },
  {
   "cell_type": "code",
   "execution_count": null,
   "id": "a07ae243",
   "metadata": {},
   "outputs": [],
   "source": [
    "#------------------------------------------------------------------------------"
   ]
  }
 ],
 "metadata": {
  "kernelspec": {
   "display_name": "Python 3",
   "language": "python",
   "name": "python3"
  },
  "language_info": {
   "codemirror_mode": {
    "name": "ipython",
    "version": 3
   },
   "file_extension": ".py",
   "mimetype": "text/x-python",
   "name": "python",
   "nbconvert_exporter": "python",
   "pygments_lexer": "ipython3",
   "version": "3.8.8"
  }
 },
 "nbformat": 4,
 "nbformat_minor": 5
}
