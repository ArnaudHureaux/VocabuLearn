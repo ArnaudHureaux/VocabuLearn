{
 "cells": [
  {
   "cell_type": "code",
   "execution_count": 10,
   "id": "5221ad70",
   "metadata": {},
   "outputs": [],
   "source": [
    "import pandas as pd\n",
    "import numpy as np\n",
    "from tqdm import tqdm\n",
    "import nltk\n",
    "from nltk.corpus import stopwords\n",
    "from nltk.stem import PorterStemmer\n",
    "from nltk.tokenize import word_tokenize\n",
    "import math"
   ]
  },
  {
   "cell_type": "markdown",
   "id": "55fba626",
   "metadata": {},
   "source": [
    "### API words"
   ]
  },
  {
   "cell_type": "code",
   "execution_count": 2,
   "id": "ecaa07e5",
   "metadata": {},
   "outputs": [],
   "source": [
    "def remove_punctuation(text):\n",
    "    special_punc = '''!()-[]{};:'\"\\,<>./?@#$%^&*_~'''\n",
    "    for ele in text:\n",
    "        if ele in special_punc:\n",
    "            text = text.replace(ele, \"\")\n",
    "    return text"
   ]
  },
  {
   "cell_type": "code",
   "execution_count": 3,
   "id": "a93fa80e",
   "metadata": {},
   "outputs": [],
   "source": [
    "def remove_stopwords(text):\n",
    "    text_tokens = word_tokenize(text)\n",
    "    tokens_without_sw = ' '.join([word for word in text_tokens if not word in stopwords.words()])\n",
    "    return tokens_without_sw"
   ]
  },
  {
   "cell_type": "code",
   "execution_count": 9,
   "id": "b2ae127e",
   "metadata": {},
   "outputs": [],
   "source": [
    "def stem(text):\n",
    "    try:\n",
    "        ps = PorterStemmer()\n",
    "        return ps.stem(text)\n",
    "    except:\n",
    "        return text"
   ]
  },
  {
   "cell_type": "code",
   "execution_count": 5,
   "id": "0dcba41a",
   "metadata": {},
   "outputs": [],
   "source": [
    "def split_and_concat(df):\n",
    "    dicte={}\n",
    "    IDs=df['ID'].tolist()\n",
    "    for ID in tqdm(IDs):\n",
    "        df_del=df[df['ID']==ID]\n",
    "        df_del=df_del.reset_index(drop=True)\n",
    "        df_del['original_word']=df_del['ENGLISH'][0]\n",
    "        df_del=df_del.reset_index(drop=True)\n",
    "        list_words=df_del['ENGLISH'][0].split()\n",
    "        for word in list_words:    \n",
    "            df_del=df_del.append({'original_word':df_del['ENGLISH'][0],'ID':df_del['ID'][0],'FRENCH':df_del['FRENCH'][0],'ENGLISH':word,'THEME':df_del['THEME'][0],'IMPORTANT':df_del['IMPORTANT'][0]},ignore_index=True)\n",
    "        df_del=df_del.drop(0)\n",
    "        dicte[ID]=df_del\n",
    "\n",
    "    df_new=pd.concat(dicte)\n",
    "    df_new=df_new.reset_index(drop=True)\n",
    "    return df_new"
   ]
  },
  {
   "cell_type": "code",
   "execution_count": 6,
   "id": "52d01500",
   "metadata": {},
   "outputs": [],
   "source": [
    "df=pd.read_csv('inputs/data.csv')\n",
    "df_new=split_and_concat(df)\n",
    "df_new['ENGLISH_stem']=df_new['ENGLISH'].apply(remove_punctuation).apply(stem)\n",
    "df_new=df_new[df_new.ENGLISH_stem.notna()]"
   ]
  },
  {
   "cell_type": "code",
   "execution_count": 15,
   "id": "97cacd6c",
   "metadata": {},
   "outputs": [
    {
     "ename": "NameError",
     "evalue": "name 'df_new' is not defined",
     "output_type": "error",
     "traceback": [
      "\u001b[1;31m---------------------------------------------------------------------------\u001b[0m",
      "\u001b[1;31mNameError\u001b[0m                                 Traceback (most recent call last)",
      "Cell \u001b[1;32mIn[15], line 1\u001b[0m\n\u001b[1;32m----> 1\u001b[0m df_new\n",
      "\u001b[1;31mNameError\u001b[0m: name 'df_new' is not defined"
     ]
    }
   ],
   "source": [
    "df_new"
   ]
  },
  {
   "cell_type": "markdown",
   "id": "f202a69a",
   "metadata": {},
   "source": [
    "### On importe les mots de Wiki pour obtenir les Occurences 2"
   ]
  },
  {
   "cell_type": "code",
   "execution_count": 11,
   "id": "82d45d39",
   "metadata": {},
   "outputs": [],
   "source": [
    "df4=pd.read_csv('inputs/WikiWords_FirstMillion_Refined_V6.csv')\n",
    "df4.columns=['ENGLISH','OCCURENCES']\n",
    "df4=df4[df4['ENGLISH'].notna()]\n",
    "df4=df4.drop_duplicates(subset=['ENGLISH'])"
   ]
  },
  {
   "cell_type": "code",
   "execution_count": 12,
   "id": "4868efa8",
   "metadata": {},
   "outputs": [
    {
     "data": {
      "text/html": [
       "<div>\n",
       "<style scoped>\n",
       "    .dataframe tbody tr th:only-of-type {\n",
       "        vertical-align: middle;\n",
       "    }\n",
       "\n",
       "    .dataframe tbody tr th {\n",
       "        vertical-align: top;\n",
       "    }\n",
       "\n",
       "    .dataframe thead th {\n",
       "        text-align: right;\n",
       "    }\n",
       "</style>\n",
       "<table border=\"1\" class=\"dataframe\">\n",
       "  <thead>\n",
       "    <tr style=\"text-align: right;\">\n",
       "      <th></th>\n",
       "      <th>ENGLISH</th>\n",
       "      <th>OCCURENCES</th>\n",
       "    </tr>\n",
       "  </thead>\n",
       "  <tbody>\n",
       "    <tr>\n",
       "      <th>0</th>\n",
       "      <td>amp</td>\n",
       "      <td>15034</td>\n",
       "    </tr>\n",
       "    <tr>\n",
       "      <th>1</th>\n",
       "      <td>is</td>\n",
       "      <td>1057392</td>\n",
       "    </tr>\n",
       "    <tr>\n",
       "      <th>2</th>\n",
       "      <td>a</td>\n",
       "      <td>1936240</td>\n",
       "    </tr>\n",
       "    <tr>\n",
       "      <th>3</th>\n",
       "      <td>double</td>\n",
       "      <td>3366</td>\n",
       "    </tr>\n",
       "    <tr>\n",
       "      <th>4</th>\n",
       "      <td>ampersand</td>\n",
       "      <td>17</td>\n",
       "    </tr>\n",
       "    <tr>\n",
       "      <th>...</th>\n",
       "      <td>...</td>\n",
       "      <td>...</td>\n",
       "    </tr>\n",
       "    <tr>\n",
       "      <th>75487</th>\n",
       "      <td>sair</td>\n",
       "      <td>1</td>\n",
       "    </tr>\n",
       "    <tr>\n",
       "      <th>75488</th>\n",
       "      <td>impulsion</td>\n",
       "      <td>1</td>\n",
       "    </tr>\n",
       "    <tr>\n",
       "      <th>75489</th>\n",
       "      <td>abogados</td>\n",
       "      <td>3</td>\n",
       "    </tr>\n",
       "    <tr>\n",
       "      <th>75490</th>\n",
       "      <td>trypanosomiasis</td>\n",
       "      <td>1</td>\n",
       "    </tr>\n",
       "    <tr>\n",
       "      <th>75491</th>\n",
       "      <td>aerobus</td>\n",
       "      <td>1</td>\n",
       "    </tr>\n",
       "  </tbody>\n",
       "</table>\n",
       "<p>75486 rows × 2 columns</p>\n",
       "</div>"
      ],
      "text/plain": [
       "               ENGLISH  OCCURENCES\n",
       "0                  amp       15034\n",
       "1                   is     1057392\n",
       "2                    a     1936240\n",
       "3               double        3366\n",
       "4            ampersand          17\n",
       "...                ...         ...\n",
       "75487             sair           1\n",
       "75488        impulsion           1\n",
       "75489         abogados           3\n",
       "75490  trypanosomiasis           1\n",
       "75491          aerobus           1\n",
       "\n",
       "[75486 rows x 2 columns]"
      ]
     },
     "execution_count": 12,
     "metadata": {},
     "output_type": "execute_result"
    }
   ],
   "source": [
    "df4"
   ]
  },
  {
   "cell_type": "code",
   "execution_count": 13,
   "id": "bed095f6",
   "metadata": {},
   "outputs": [],
   "source": [
    "df4_new=df4.copy()\n",
    "df4_new['ENGLISH_stem']=df4_new['ENGLISH'].apply(stem)\n",
    "df4_new=df4_new.drop_duplicates(subset=['ENGLISH_stem'])"
   ]
  },
  {
   "cell_type": "code",
   "execution_count": 14,
   "id": "7dfd2590",
   "metadata": {},
   "outputs": [
    {
     "data": {
      "text/html": [
       "<div>\n",
       "<style scoped>\n",
       "    .dataframe tbody tr th:only-of-type {\n",
       "        vertical-align: middle;\n",
       "    }\n",
       "\n",
       "    .dataframe tbody tr th {\n",
       "        vertical-align: top;\n",
       "    }\n",
       "\n",
       "    .dataframe thead th {\n",
       "        text-align: right;\n",
       "    }\n",
       "</style>\n",
       "<table border=\"1\" class=\"dataframe\">\n",
       "  <thead>\n",
       "    <tr style=\"text-align: right;\">\n",
       "      <th></th>\n",
       "      <th>ENGLISH</th>\n",
       "      <th>OCCURENCES</th>\n",
       "      <th>ENGLISH_stem</th>\n",
       "    </tr>\n",
       "  </thead>\n",
       "  <tbody>\n",
       "    <tr>\n",
       "      <th>0</th>\n",
       "      <td>amp</td>\n",
       "      <td>15034</td>\n",
       "      <td>amp</td>\n",
       "    </tr>\n",
       "    <tr>\n",
       "      <th>1</th>\n",
       "      <td>is</td>\n",
       "      <td>1057392</td>\n",
       "      <td>is</td>\n",
       "    </tr>\n",
       "    <tr>\n",
       "      <th>2</th>\n",
       "      <td>a</td>\n",
       "      <td>1936240</td>\n",
       "      <td>a</td>\n",
       "    </tr>\n",
       "    <tr>\n",
       "      <th>3</th>\n",
       "      <td>double</td>\n",
       "      <td>3366</td>\n",
       "      <td>doubl</td>\n",
       "    </tr>\n",
       "    <tr>\n",
       "      <th>4</th>\n",
       "      <td>ampersand</td>\n",
       "      <td>17</td>\n",
       "      <td>ampersand</td>\n",
       "    </tr>\n",
       "    <tr>\n",
       "      <th>...</th>\n",
       "      <td>...</td>\n",
       "      <td>...</td>\n",
       "      <td>...</td>\n",
       "    </tr>\n",
       "    <tr>\n",
       "      <th>75485</th>\n",
       "      <td>dispender</td>\n",
       "      <td>1</td>\n",
       "      <td>dispend</td>\n",
       "    </tr>\n",
       "    <tr>\n",
       "      <th>75487</th>\n",
       "      <td>sair</td>\n",
       "      <td>1</td>\n",
       "      <td>sair</td>\n",
       "    </tr>\n",
       "    <tr>\n",
       "      <th>75489</th>\n",
       "      <td>abogados</td>\n",
       "      <td>3</td>\n",
       "      <td>abogado</td>\n",
       "    </tr>\n",
       "    <tr>\n",
       "      <th>75490</th>\n",
       "      <td>trypanosomiasis</td>\n",
       "      <td>1</td>\n",
       "      <td>trypanosomiasi</td>\n",
       "    </tr>\n",
       "    <tr>\n",
       "      <th>75491</th>\n",
       "      <td>aerobus</td>\n",
       "      <td>1</td>\n",
       "      <td>aerobu</td>\n",
       "    </tr>\n",
       "  </tbody>\n",
       "</table>\n",
       "<p>45239 rows × 3 columns</p>\n",
       "</div>"
      ],
      "text/plain": [
       "               ENGLISH  OCCURENCES    ENGLISH_stem\n",
       "0                  amp       15034             amp\n",
       "1                   is     1057392              is\n",
       "2                    a     1936240               a\n",
       "3               double        3366           doubl\n",
       "4            ampersand          17       ampersand\n",
       "...                ...         ...             ...\n",
       "75485        dispender           1         dispend\n",
       "75487             sair           1            sair\n",
       "75489         abogados           3         abogado\n",
       "75490  trypanosomiasis           1  trypanosomiasi\n",
       "75491          aerobus           1          aerobu\n",
       "\n",
       "[45239 rows x 3 columns]"
      ]
     },
     "execution_count": 14,
     "metadata": {},
     "output_type": "execute_result"
    }
   ],
   "source": [
    "df4_new"
   ]
  },
  {
   "cell_type": "markdown",
   "id": "968f0099",
   "metadata": {},
   "source": [
    "#### Merge des deux tables (wiki+data.csv)"
   ]
  },
  {
   "cell_type": "code",
   "execution_count": 16,
   "id": "7559d189",
   "metadata": {},
   "outputs": [],
   "source": [
    "df5_new=df_new.merge(df4_new,how='outer',left_on=['ENGLISH_stem'],right_on=['ENGLISH_stem'])\n",
    "\n",
    "IDS_doubt=df5_new[(df5_new['FRENCH'].notna())&(df5_new['OCCURENCES'].isna())].ID.unique().tolist()\n",
    "\n",
    "str(round(len(IDS_doubt)/len(df)*100,2))+'%'"
   ]
  },
  {
   "cell_type": "markdown",
   "id": "a29bf344",
   "metadata": {},
   "source": [
    "#### Get final table (deduplication en prenant l'occurence du mot le moins fréquent)"
   ]
  },
  {
   "cell_type": "code",
   "execution_count": 125,
   "id": "c92a0bfa",
   "metadata": {},
   "outputs": [],
   "source": [
    "df_final=df5_new[(df5_new['FRENCH'].notna())&(df5_new['OCCURENCES'].notna())&(~df5_new.ID.isin(IDS_doubt))]\n",
    "df_final=df_final[['ID','FRENCH','original_word','THEME','ENGLISH_x','ENGLISH_stem','OCCURENCES']].sort_values(by=['ID'])"
   ]
  },
  {
   "cell_type": "code",
   "execution_count": 126,
   "id": "be50891c",
   "metadata": {},
   "outputs": [
    {
     "name": "stderr",
     "output_type": "stream",
     "text": [
      "100%|█████████████████████████████████████████████████████████████████████████████| 7746/7746 [01:02<00:00, 124.18it/s]\n"
     ]
    }
   ],
   "source": [
    "IDs=df_final['ID'].unique().tolist()\n",
    "dicte={}\n",
    "for id_ in tqdm(IDs):    \n",
    "    df_del=df_final[df_final.ID==id_]\n",
    "    df_del=df_del.reset_index(drop=True)\n",
    "    occurences=df_del.OCCURENCES.unique().tolist()\n",
    "    index_min=occurences.index(min(occurences))\n",
    "    df_del2=pd.DataFrame(columns=df_del.columns)\n",
    "    df_del2=df_del2.append({'original_word':df_del['original_word'][0],'ID':id_,'FRENCH':df_del['FRENCH'][0],'ENGLISH':df_del['ENGLISH_x'][index_min],'THEME':df_del['THEME'][0],'ENGLISH_stem':df_del['ENGLISH_stem'][index_min],'OCCURENCES':df_del['OCCURENCES'][index_min]},ignore_index=True)\n",
    "    dicte[id_]=df_del2\n",
    "df_final=pd.concat(dicte)\n",
    "df_final=df_final.reset_index(drop=True)"
   ]
  },
  {
   "cell_type": "markdown",
   "id": "e4874714",
   "metadata": {},
   "source": [
    "#### On applique des derniers filtre avant d'exporter"
   ]
  },
  {
   "cell_type": "code",
   "execution_count": 127,
   "id": "b8a835f8",
   "metadata": {},
   "outputs": [],
   "source": [
    "df_final['_len']=df_final['original_word'].apply(len)\n",
    "df_final=df_final[df_final._len<18]\n",
    "df_final=df_final[~(df_final['FRENCH']==df_final['original_word'])]"
   ]
  },
  {
   "cell_type": "markdown",
   "id": "4d8613ee",
   "metadata": {},
   "source": [
    "### On importe les mots traduits avec Google Sheet/Translate et transformés dans \"Google_translate.ipynb\""
   ]
  },
  {
   "cell_type": "code",
   "execution_count": 16,
   "id": "44cdd281",
   "metadata": {},
   "outputs": [],
   "source": [
    "df_bonus=pd.read_csv('output/additional_data.csv')"
   ]
  },
  {
   "cell_type": "code",
   "execution_count": 148,
   "id": "86a24b45",
   "metadata": {},
   "outputs": [],
   "source": [
    "df_bonus=pd.read_csv('output/additional_data.csv')\n",
    "df_bonus=df_bonus.drop(columns=['_len','_fuzzy_ration'])\n",
    "df_bonus['THEME']=\"other\"\n",
    "max_id=int(df_final['ID'].max())\n",
    "ID_bonus=list(range(max_id+1,max_id+1+len(df_bonus)))\n",
    "df_bonus['ID']=ID_bonus"
   ]
  },
  {
   "cell_type": "code",
   "execution_count": 149,
   "id": "4069a6d4",
   "metadata": {},
   "outputs": [],
   "source": [
    "df_final2=df_final.drop(columns=['_len','ENGLISH_x','ENGLISH'])\n",
    "df_final2.columns=['ID','FRENCH','ENGLISH','THEME','ENGLISH_stem','OCCURENCES']"
   ]
  },
  {
   "cell_type": "markdown",
   "id": "7a8f5ec0",
   "metadata": {},
   "source": [
    "#### On merge df_final2 et df_bonus, et on mélange le tout"
   ]
  },
  {
   "cell_type": "code",
   "execution_count": 150,
   "id": "3d08588f",
   "metadata": {},
   "outputs": [],
   "source": [
    "df_final3=pd.concat((df_final2,df_bonus))\n",
    "\n",
    "df_final3=df_final3.sample(frac=1)"
   ]
  },
  {
   "cell_type": "markdown",
   "id": "835c70d4",
   "metadata": {},
   "source": [
    "### Interval creation"
   ]
  },
  {
   "cell_type": "code",
   "execution_count": 152,
   "id": "878c33b0",
   "metadata": {},
   "outputs": [],
   "source": [
    "df_final4=df_final3.copy()\n",
    "df_final4['INTERVAL']=pd.qcut(df_final4['OCCURENCES'],100,duplicates='drop',labels=False)\n",
    "df_final4['INTERVAL']=100-df_final4['INTERVAL']\n",
    "df_final4['IMPORTANT']=np.nan"
   ]
  },
  {
   "cell_type": "code",
   "execution_count": 153,
   "id": "59d67fa6",
   "metadata": {},
   "outputs": [],
   "source": [
    "#Debug\n",
    "def remove_punctuation2(text):\n",
    "    special_punc = '''!()-[]{};:'\"\\,<>./?@#$%^&*_~'''\n",
    "    for ele in text:\n",
    "        if ele in special_punc:\n",
    "            text = text.replace(ele, \" \")\n",
    "    return text\n",
    "df_final4['FRENCH']=df_final4['FRENCH'].apply(remove_punctuation2)\n",
    "df_final4['ENGLISH']=df_final4['ENGLISH'].apply(remove_punctuation2)\n",
    "df_final4['THEME']=df_final4['THEME'].apply(remove_punctuation2)"
   ]
  },
  {
   "cell_type": "code",
   "execution_count": 154,
   "id": "40118f66",
   "metadata": {},
   "outputs": [],
   "source": [
    "df_final4.to_csv('output/data.csv',index=False)"
   ]
  },
  {
   "cell_type": "code",
   "execution_count": 145,
   "id": "2e6fc113",
   "metadata": {},
   "outputs": [
    {
     "data": {
      "text/plain": [
       "<AxesSubplot:>"
      ]
     },
     "execution_count": 145,
     "metadata": {},
     "output_type": "execute_result"
    },
    {
     "data": {
      "image/png": "[encoded data removed]",
      "text/plain": [
       "<Figure size 432x288 with 1 Axes>"
      ]
     },
     "metadata": {
      "needs_background": "light"
     },
     "output_type": "display_data"
    }
   ],
   "source": [
    "df_final4['INTERVAL'].hist(bins=100)"
   ]
  },
  {
   "cell_type": "code",
   "execution_count": 233,
   "id": "e6541753",
   "metadata": {},
   "outputs": [],
   "source": [
    "  //list_of_list[0] -> IDs\n",
    "  //list_of_list[1] -> ENG\n",
    "  //list_of_list[2] -> FR\n",
    "  //list_of_list[3] -> THEME\n",
    "  //list_of_list[4] -> OCCURENCE"
   ]
  }
 ],
 "metadata": {
  "kernelspec": {
   "display_name": "Python 3 (ipykernel)",
   "language": "python",
   "name": "python3"
  },
  "language_info": {
   "codemirror_mode": {
    "name": "ipython",
    "version": 3
   },
   "file_extension": ".py",
   "mimetype": "text/x-python",
   "name": "python",
   "nbconvert_exporter": "python",
   "pygments_lexer": "ipython3",
   "version": "3.11.5"
  },
  "varInspector": {
   "cols": {
    "lenName": 16,
    "lenType": 16,
    "lenVar": 40
   },
   "kernels_config": {
    "python": {
     "delete_cmd_postfix": "",
     "delete_cmd_prefix": "del ",
     "library": "var_list.py",
     "varRefreshCmd": "print(var_dic_list())"
    },
    "r": {
     "delete_cmd_postfix": ") ",
     "delete_cmd_prefix": "rm(",
     "library": "var_list.r",
     "varRefreshCmd": "cat(var_dic_list()) "
    }
   },
   "types_to_exclude": [
    "module",
    "function",
    "builtin_function_or_method",
    "instance",
    "_Feature"
   ],
   "window_display": false
  }
 },
 "nbformat": 4,
 "nbformat_minor": 5
}
